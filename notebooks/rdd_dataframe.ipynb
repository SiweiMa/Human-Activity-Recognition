{
 "cells": [
  {
   "cell_type": "code",
   "execution_count": 4,
   "metadata": {
    "ExecuteTime": {
     "end_time": "2021-05-30T01:01:51.864122Z",
     "start_time": "2021-05-30T01:01:48.321556Z"
    }
   },
   "outputs": [],
   "source": [
    "from pyspark.sql import SparkSession\n",
    "from pyspark.sql.types import *\n"
   ]
  },
  {
   "cell_type": "code",
   "execution_count": 6,
   "metadata": {
    "ExecuteTime": {
     "end_time": "2021-05-30T01:03:08.344707Z",
     "start_time": "2021-05-30T01:03:07.537569Z"
    }
   },
   "outputs": [],
   "source": [
    "ss = SparkSession.builder.getOrCreate()\n",
    "sc = ss.sparkContext\n",
    "\n",
    "files = 'WISDM/*/*/'\n",
    "files_pair = sc.wholeTextFiles(files)"
   ]
  },
  {
   "source": [
    "# 1. Files number"
   ],
   "cell_type": "markdown",
   "metadata": {}
  },
  {
   "cell_type": "code",
   "execution_count": 3,
   "metadata": {},
   "outputs": [
    {
     "data": {
      "text/plain": [
       "204"
      ]
     },
     "execution_count": 3,
     "metadata": {},
     "output_type": "execute_result"
    }
   ],
   "source": [
    "files_pair.count()"
   ]
  },
  {
   "source": [
    "# 2. Records number"
   ],
   "cell_type": "markdown",
   "metadata": {}
  },
  {
   "cell_type": "code",
   "execution_count": 4,
   "metadata": {},
   "outputs": [],
   "source": [
    "def filter_none(x):\n",
    "    if len(x[1]) == 6:\n",
    "        return True\n",
    "    else:\n",
    "        return False"
   ]
  },
  {
   "cell_type": "code",
   "execution_count": 5,
   "metadata": {},
   "outputs": [],
   "source": [
    "filtered_file_record = files_pair.flatMapValues(lambda x: x.split('\\n')).mapValues(lambda x: x.split(\",\")).filter(filter_none).partitionBy(100).cache()\n"
   ]
  },
  {
   "cell_type": "code",
   "execution_count": 6,
   "metadata": {},
   "outputs": [
    {
     "data": {
      "text/plain": [
       "15630426"
      ]
     },
     "execution_count": 6,
     "metadata": {},
     "output_type": "execute_result"
    }
   ],
   "source": [
    "filtered_file_record.count()"
   ]
  },
  {
   "source": [
    "# 3. Create dataframe from rdd"
   ],
   "cell_type": "markdown",
   "metadata": {}
  },
  {
   "cell_type": "code",
   "execution_count": 7,
   "metadata": {},
   "outputs": [],
   "source": [
    "def toIntSafe(value):\n",
    "  try:\n",
    "    return int(value)\n",
    "  except ValueError:\n",
    "    return None\n",
    "\n",
    "def toFloatSafe(value):\n",
    "  try:\n",
    "    return float(value)\n",
    "  except ValueError:\n",
    "    return None\n"
   ]
  },
  {
   "cell_type": "code",
   "execution_count": 8,
   "metadata": {},
   "outputs": [],
   "source": [
    "def assign_columns(x):\n",
    "    file_name = x[0].split('/')[-1].split('.')[0].split('_')\n",
    "    record = x[1]\n",
    "    \n",
    "    user_id = toIntSafe(record[0])\n",
    "    sensor_type = file_name[2]\n",
    "    device_type = file_name[3]\n",
    "    acticity_code = record[1]\n",
    "    timestamp = toIntSafe(record[2])\n",
    "    x_axis = toFloatSafe(record[3])\n",
    "    y_axis = toFloatSafe(record[4])\n",
    "    z_axis = toFloatSafe(record[5][:-1])\n",
    "    \n",
    "    return user_id, sensor_type, device_type, acticity_code, timestamp, x_axis, y_axis, z_axis\n",
    "            "
   ]
  },
  {
   "cell_type": "code",
   "execution_count": 9,
   "metadata": {},
   "outputs": [],
   "source": [
    "itemized_file_record = filtered_file_record.map(assign_columns)\n"
   ]
  },
  {
   "cell_type": "code",
   "execution_count": 10,
   "metadata": {},
   "outputs": [],
   "source": [
    "schema = StructType([ StructField(\"subject_id\", IntegerType(), False),\n",
    "                      StructField(\"sensor_type\", StringType(), False),\n",
    "                      StructField(\"device_type\", StringType(), False),\n",
    "                      StructField(\"acticity_code\", StringType(), False),\n",
    "                      StructField(\"timestamp\", LongType(), False),\n",
    "                      StructField(\"x\", FloatType(), False),\n",
    "                      StructField(\"y\", FloatType(), False),\n",
    "                      StructField(\"z\", FloatType(), False)\n",
    "                    ])"
   ]
  },
  {
   "cell_type": "code",
   "execution_count": 11,
   "metadata": {},
   "outputs": [],
   "source": [
    "df_record = ss.createDataFrame(itemized_file_record, schema)"
   ]
  },
  {
   "cell_type": "code",
   "execution_count": 12,
   "metadata": {},
   "outputs": [
    {
     "name": "stdout",
     "output_type": "stream",
     "text": [
      "+----------+-----------+-----------+-------------+----------------+----------+-----------+-----------+\n",
      "|subject_id|sensor_type|device_type|acticity_code|       timestamp|         x|          y|          z|\n",
      "+----------+-----------+-----------+-------------+----------------+----------+-----------+-----------+\n",
      "|      1644|      accel|      phone|            A|1819410008602000| 7.4509063| -11.718831|-0.06945557|\n",
      "|      1644|      accel|      phone|            A|1819410028698000|  5.007986| -11.266172| -0.6682105|\n",
      "|      1644|      accel|      phone|            A|1819410048826000|-0.9364527| -11.785892| -0.7927515|\n",
      "|      1644|      accel|      phone|            A|1819410069560000| -6.231841|-12.1379595| -2.1004322|\n",
      "|      1644|      accel|      phone|            A|1819410089720000| -8.988508| -11.160791|  -3.772156|\n",
      "+----------+-----------+-----------+-------------+----------------+----------+-----------+-----------+\n",
      "only showing top 5 rows\n",
      "\n"
     ]
    }
   ],
   "source": [
    "df_record.show(5)"
   ]
  },
  {
   "cell_type": "code",
   "execution_count": 13,
   "metadata": {},
   "outputs": [
    {
     "name": "stdout",
     "output_type": "stream",
     "text": [
      "root\n",
      " |-- subject_id: integer (nullable = false)\n",
      " |-- sensor_type: string (nullable = false)\n",
      " |-- device_type: string (nullable = false)\n",
      " |-- acticity_code: string (nullable = false)\n",
      " |-- timestamp: long (nullable = false)\n",
      " |-- x: float (nullable = false)\n",
      " |-- y: float (nullable = false)\n",
      " |-- z: float (nullable = false)\n",
      "\n"
     ]
    }
   ],
   "source": [
    "df_record.printSchema()"
   ]
  },
  {
   "cell_type": "code",
   "execution_count": 14,
   "metadata": {},
   "outputs": [
    {
     "name": "stdout",
     "output_type": "stream",
     "text": [
      "+----------+\n",
      "|subject_id|\n",
      "+----------+\n",
      "|      1600|\n",
      "|      1601|\n",
      "|      1602|\n",
      "|      1603|\n",
      "|      1604|\n",
      "|      1605|\n",
      "|      1606|\n",
      "|      1607|\n",
      "|      1608|\n",
      "|      1609|\n",
      "|      1610|\n",
      "|      1611|\n",
      "|      1612|\n",
      "|      1613|\n",
      "|      1614|\n",
      "|      1615|\n",
      "|      1616|\n",
      "|      1617|\n",
      "|      1618|\n",
      "|      1619|\n",
      "|      1620|\n",
      "|      1621|\n",
      "|      1622|\n",
      "|      1623|\n",
      "|      1624|\n",
      "|      1625|\n",
      "|      1626|\n",
      "|      1627|\n",
      "|      1628|\n",
      "|      1629|\n",
      "|      1630|\n",
      "|      1631|\n",
      "|      1632|\n",
      "|      1633|\n",
      "|      1634|\n",
      "|      1635|\n",
      "|      1636|\n",
      "|      1637|\n",
      "|      1638|\n",
      "|      1639|\n",
      "|      1640|\n",
      "|      1641|\n",
      "|      1642|\n",
      "|      1643|\n",
      "|      1644|\n",
      "|      1645|\n",
      "|      1646|\n",
      "|      1647|\n",
      "|      1648|\n",
      "|      1649|\n",
      "|      1650|\n",
      "+----------+\n",
      "\n"
     ]
    }
   ],
   "source": [
    "df_record_distinct = df_record.select('subject_id').distinct()\n",
    "count = df_record_distinct.count()\n",
    "df_record_distinct.orderBy(\"subject_id\", ascending = True).show(count)"
   ]
  },
  {
   "cell_type": "code",
   "execution_count": 15,
   "metadata": {},
   "outputs": [
    {
     "name": "stdout",
     "output_type": "stream",
     "text": [
      "+-----------+\n",
      "|sensor_type|\n",
      "+-----------+\n",
      "|      accel|\n",
      "|       gyro|\n",
      "+-----------+\n",
      "\n"
     ]
    }
   ],
   "source": [
    "df_record.select('sensor_type').distinct().orderBy(\"sensor_type\", ascending = True).show()\n"
   ]
  },
  {
   "cell_type": "code",
   "execution_count": 16,
   "metadata": {},
   "outputs": [
    {
     "name": "stdout",
     "output_type": "stream",
     "text": [
      "+-------------+\n",
      "|acticity_code|\n",
      "+-------------+\n",
      "|            A|\n",
      "|            B|\n",
      "|            C|\n",
      "|            D|\n",
      "|            E|\n",
      "|            F|\n",
      "|            G|\n",
      "|            H|\n",
      "|            I|\n",
      "|            J|\n",
      "|            K|\n",
      "|            L|\n",
      "|            M|\n",
      "|            O|\n",
      "|            P|\n",
      "|            Q|\n",
      "|            R|\n",
      "|            S|\n",
      "+-------------+\n",
      "\n"
     ]
    }
   ],
   "source": [
    "df_record.select('acticity_code').distinct().orderBy(\"acticity_code\", ascending = True).show()\n"
   ]
  },
  {
   "cell_type": "code",
   "execution_count": 17,
   "metadata": {},
   "outputs": [],
   "source": [
    "subject_id = 1631\n",
    "activity_code = 'B'\n",
    "n = 10"
   ]
  },
  {
   "cell_type": "code",
   "execution_count": 18,
   "metadata": {},
   "outputs": [],
   "source": [
    "from pyspark.sql.functions import asc, desc\n"
   ]
  },
  {
   "cell_type": "code",
   "execution_count": 19,
   "metadata": {},
   "outputs": [
    {
     "name": "stdout",
     "output_type": "stream",
     "text": [
      "+----------+-----------+-----------+-------------+----------------+----------+----------+----------+\n",
      "|subject_id|sensor_type|device_type|acticity_code|       timestamp|         x|         y|         z|\n",
      "+----------+-----------+-----------+-------------+----------------+----------+----------+----------+\n",
      "|      1631|      accel|      watch|            B|1328285960211589|  16.17358| 7.7905827| -9.755025|\n",
      "|      1631|       gyro|      watch|            B|1328286009711589|-1.6902926| 0.5162165|-1.0149877|\n",
      "|      1631|      accel|      watch|            B|1328286009711589| 13.688399|-12.773215|-10.083031|\n",
      "|      1631|       gyro|      watch|            B|1328286059211589| 1.1283971| 1.0626972|-2.8483078|\n",
      "|      1631|      accel|      watch|            B|1328286059211589|  9.958233|   3.79466| -8.308928|\n",
      "|      1631|      accel|      watch|            B|1328286108711589|  9.077167|-6.9050274|-3.9395092|\n",
      "|      1631|       gyro|      watch|            B|1328286108711589| 1.4809996|0.88373274|-2.0845132|\n",
      "|      1631|       gyro|      watch|            B|1328286158211589| 1.5726123|0.08584966|-0.5324229|\n",
      "|      1631|      accel|      watch|            B|1328286158211589| 3.3071408| 0.6750153| 3.2742205|\n",
      "|      1631|      accel|      watch|            B|1328286207711589| 1.1332055| 3.4115877|-2.0648494|\n",
      "+----------+-----------+-----------+-------------+----------------+----------+----------+----------+\n",
      "only showing top 10 rows\n",
      "\n"
     ]
    }
   ],
   "source": [
    "df_record.where(f\"subject_id == {subject_id} and acticity_code == '{activity_code}'\").orderBy(asc(\"timestamp\"), desc(\"acticity_code\")).show(n)\n"
   ]
  },
  {
   "source": [
    "# 4. Determine the sign of coordiantes"
   ],
   "cell_type": "markdown",
   "metadata": {}
  },
  {
   "cell_type": "code",
   "execution_count": 20,
   "metadata": {
    "scrolled": true
   },
   "outputs": [
    {
     "name": "stdout",
     "output_type": "stream",
     "text": [
      "+----------+-----------+-----------+-------------+----------------+----------+----------+----------+\n",
      "|subject_id|sensor_type|device_type|acticity_code|       timestamp|x_positive|y_positive|z_positive|\n",
      "+----------+-----------+-----------+-------------+----------------+----------+----------+----------+\n",
      "|      1631|      accel|      watch|            B|1328285960211589|      true|      true|     false|\n",
      "|      1631|      accel|      watch|            B|1328286009711589|      true|     false|     false|\n",
      "|      1631|       gyro|      watch|            B|1328286009711589|     false|      true|     false|\n",
      "|      1631|       gyro|      watch|            B|1328286059211589|      true|      true|     false|\n",
      "|      1631|      accel|      watch|            B|1328286059211589|      true|      true|     false|\n",
      "|      1631|      accel|      watch|            B|1328286108711589|      true|     false|     false|\n",
      "|      1631|       gyro|      watch|            B|1328286108711589|      true|      true|     false|\n",
      "|      1631|       gyro|      watch|            B|1328286158211589|      true|      true|     false|\n",
      "|      1631|      accel|      watch|            B|1328286158211589|      true|      true|      true|\n",
      "|      1631|       gyro|      watch|            B|1328286207711589|      true|      true|      true|\n",
      "+----------+-----------+-----------+-------------+----------------+----------+----------+----------+\n",
      "only showing top 10 rows\n",
      "\n"
     ]
    }
   ],
   "source": [
    "df_record.withColumn('x_positive', df_record['x']>= 0) \\\n",
    "        .withColumn('y_positive', df_record['y']>= 0) \\\n",
    "        .withColumn('z_positive', df_record['z']>= 0) \\\n",
    "        .select('subject_id', 'sensor_type', 'device_type', 'acticity_code', 'timestamp', 'x_positive', 'y_positive', 'z_positive')\\\n",
    "        .where(f\"subject_id == {subject_id} and acticity_code == '{activity_code}'\") \\\n",
    "        .orderBy(asc(\"timestamp\"), desc(\"acticity_code\")).show(n)"
   ]
  },
  {
   "cell_type": "code",
   "execution_count": 22,
   "metadata": {},
   "outputs": [],
   "source": [
    "sc.stop()"
   ]
  },
  {
   "cell_type": "code",
   "execution_count": null,
   "metadata": {},
   "outputs": [],
   "source": []
  }
 ],
 "metadata": {
  "kernelspec": {
   "display_name": "Python 3",
   "language": "python",
   "name": "python3"
  },
  "language_info": {
   "codemirror_mode": {
    "name": "ipython",
    "version": 3
   },
   "file_extension": ".py",
   "mimetype": "text/x-python",
   "name": "python",
   "nbconvert_exporter": "python",
   "pygments_lexer": "ipython3",
   "version": "3.7.9"
  }
 },
 "nbformat": 4,
 "nbformat_minor": 4
}