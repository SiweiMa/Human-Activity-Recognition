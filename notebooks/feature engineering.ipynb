{
 "cells": [
  {
   "cell_type": "code",
   "execution_count": 1,
   "metadata": {},
   "outputs": [],
   "source": [
    "from pyspark.sql import SparkSession\n",
    "from pyspark.sql import Window\n",
    "from pyspark.sql.types import *\n",
    "from pyspark.sql.functions import *\n",
    "from pyspark.ml.feature import StringIndexer\n",
    "from pyspark.ml.feature import OneHotEncoder\n",
    "from pyspark.ml.feature import StandardScaler\n",
    "from pyspark.ml.feature import VectorAssembler\n",
    "from pyspark.ml.classification import LogisticRegression\n",
    "from pyspark.ml.evaluation import BinaryClassificationEvaluator\n",
    "from pyspark.ml.tuning import CrossValidator\n",
    "from pyspark.ml.tuning import ParamGridBuilder\n",
    "\n",
    "\n",
    "from user_definition import *"
   ]
  },
  {
   "cell_type": "markdown",
   "metadata": {},
   "source": [
    "# 1. Load data"
   ]
  },
  {
   "cell_type": "code",
   "execution_count": 2,
   "metadata": {},
   "outputs": [],
   "source": [
    "ss = SparkSession.builder.config('spark.driver.extraClassPath',\n",
    "                                 'postgresql-42.2.18.jar')\\\n",
    "                         .config(\"spark.driver.memory\", \"15g\")\\\n",
    "                         .config(\"spark.executor.memory\", \"8g\")\\\n",
    "                         .getOrCreate()\n",
    "sc = ss.sparkContext"
   ]
  },
  {
   "cell_type": "markdown",
   "metadata": {},
   "source": [
    "## 1.1. Read activity_code file from AWS RDS"
   ]
  },
  {
   "cell_type": "code",
   "execution_count": 3,
   "metadata": {},
   "outputs": [],
   "source": [
    "activity_code = ss.read.jdbc(url=url, table=table, properties=properties)"
   ]
  },
  {
   "cell_type": "code",
   "execution_count": 4,
   "metadata": {},
   "outputs": [
    {
     "name": "stdout",
     "output_type": "stream",
     "text": [
      "+--------------------+----+\n",
      "|            activity|code|\n",
      "+--------------------+----+\n",
      "|             Walking|   A|\n",
      "|             Jogging|   B|\n",
      "|              Stairs|   C|\n",
      "|             Sitting|   D|\n",
      "|            Standing|   E|\n",
      "|              Typing|   F|\n",
      "|      Brushing Teeth|   G|\n",
      "|         Eating Soup|   H|\n",
      "|        Eating Chips|   I|\n",
      "|        Eating Pasta|   J|\n",
      "|   Drinking from Cup|   K|\n",
      "|     Eating Sandwich|   L|\n",
      "| Kicking Soccer Ball|   M|\n",
      "|Playing Catch w/T...|   O|\n",
      "|Dribblinlg Basket...|   P|\n",
      "|             Writing|   Q|\n",
      "|            Clapping|   R|\n",
      "|     Folding Clothes|   S|\n",
      "+--------------------+----+\n",
      "\n"
     ]
    }
   ],
   "source": [
    "activity_code.show()"
   ]
  },
  {
   "cell_type": "markdown",
   "metadata": {},
   "source": [
    "## 1.2. Read sensor files from local machine"
   ]
  },
  {
   "cell_type": "code",
   "execution_count": 5,
   "metadata": {},
   "outputs": [],
   "source": [
    "files_rdd = file_rdd(ss, files)\n",
    "\n",
    "schema = StructType([ StructField(\"subject_id\", IntegerType(), False),\n",
    "                      StructField(\"sensor\", StringType(), False),\n",
    "                      StructField(\"device\", StringType(), False),\n",
    "                      StructField(\"activity_code\", StringType(), False),\n",
    "                      StructField(\"timestamp\", LongType(), False),\n",
    "                      StructField(\"x\", FloatType(), False),\n",
    "                      StructField(\"y\", FloatType(), False),\n",
    "                      StructField(\"z\", FloatType(), False)\n",
    "                    ])\n",
    "\n",
    "df_record = create_activity_df(ss, files_rdd, schema)"
   ]
  },
  {
   "cell_type": "code",
   "execution_count": 6,
   "metadata": {},
   "outputs": [
    {
     "name": "stdout",
     "output_type": "stream",
     "text": [
      "+----------+------+------+-------------+---------------+------------+------------+------------+\n",
      "|subject_id|sensor|device|activity_code|      timestamp|           x|           y|           z|\n",
      "+----------+------+------+-------------+---------------+------------+------------+------------+\n",
      "|      1613|  gyro| phone|            A|178468071944614|-0.020240024|-0.004261058|-0.023435818|\n",
      "|      1613|  gyro| phone|            A|178468104194617|  -2.5750105|  0.18109496|   1.3864417|\n",
      "|      1613|  gyro| phone|            A|178468142811857|  -1.5739282|   0.6668556|    1.320928|\n",
      "|      1613|  gyro| phone|            A|178468183987271|  -1.5041534|   1.7973675|    0.824781|\n",
      "|      1613|  gyro| phone|            A|178468225406856| -0.50786483|   1.6002935|  0.45833004|\n",
      "|      1613|  gyro| phone|            A|178468263750919|   0.8072041|   1.4295849|    0.406931|\n",
      "|      1613|  gyro| phone|            A|178468303909407|   2.7057717|   1.1065434|  0.22610238|\n",
      "|      1613|  gyro| phone|            A|178468342207950|   2.0567594|    0.350472|  -0.2428803|\n",
      "|      1613|  gyro| phone|            A|178468382361543|  -2.7092338|   1.0740529|   0.8290421|\n",
      "|      1613|  gyro| phone|            A|178468423371647|  0.86206526|  -0.5451491|  0.21544974|\n",
      "|      1613|  gyro| phone|            A|178468463316022|    1.484446|    0.272974| -0.39547944|\n",
      "|      1613|  gyro| phone|            A|178468503185762|  -0.5486112| 0.028229509|    0.216515|\n",
      "|      1613|  gyro| phone|            A|178468543122481|   1.4988271| -0.85354316| -0.25539714|\n",
      "|      1613|  gyro| phone|            A|178468582649199|   2.8312066| -0.88976216|  0.44048685|\n",
      "|      1613|  gyro| phone|            A|178468623909304|   1.4434333|   0.5107943|  0.25699505|\n",
      "|      1613|  gyro| phone|            A|178468662793263|   2.0208068| -0.45673212| -0.12197278|\n",
      "|      1613|  gyro| phone|            A|178468701309614|   1.9238676|  -0.2511361| -0.24421188|\n",
      "|      1613|  gyro| phone|            A|178468742601958|   1.5984293| 0.082025364| -0.13741912|\n",
      "|      1613|  gyro| phone|            A|178468782708366|    1.680721|  -0.0974717|  -0.5571333|\n",
      "|      1613|  gyro| phone|            A|178468822414459|   1.3736585| 0.066046394| -0.75394094|\n",
      "+----------+------+------+-------------+---------------+------------+------------+------------+\n",
      "only showing top 20 rows\n",
      "\n"
     ]
    }
   ],
   "source": [
    "df_record.show()\n",
    "\n"
   ]
  },
  {
   "cell_type": "code",
   "execution_count": 7,
   "metadata": {},
   "outputs": [],
   "source": [
    "def f2(x):\n",
    "    determine = False\n",
    "    x_lower = x.lower()\n",
    "    for s in eating_strings:\n",
    "        if s in x_lower:\n",
    "            determine = True\n",
    "    return determine\n",
    "            \n",
    "check_activity_w_eating = udf(f2, BooleanType())"
   ]
  },
  {
   "cell_type": "markdown",
   "metadata": {},
   "source": [
    "# 2. Reture the code with include eating string"
   ]
  },
  {
   "cell_type": "code",
   "execution_count": 8,
   "metadata": {},
   "outputs": [
    {
     "name": "stdout",
     "output_type": "stream",
     "text": [
      "+----+\n",
      "|code|\n",
      "+----+\n",
      "|   H|\n",
      "|   I|\n",
      "|   J|\n",
      "|   L|\n",
      "+----+\n",
      "\n"
     ]
    }
   ],
   "source": [
    "activity_code_w_eating = activity_code.filter(check_activity_w_eating('activity'))\\\n",
    "                                      .select('code').distinct().orderBy('code')\n",
    "    \n",
    "activity_code_w_eating.show()"
   ]
  },
  {
   "cell_type": "markdown",
   "metadata": {},
   "source": [
    "# 3. Create target variable which is equal to 1 if the code includes \"eating\" otherwise 0"
   ]
  },
  {
   "cell_type": "code",
   "execution_count": null,
   "metadata": {},
   "outputs": [],
   "source": []
  },
  {
   "cell_type": "code",
   "execution_count": 9,
   "metadata": {},
   "outputs": [
    {
     "name": "stdout",
     "output_type": "stream",
     "text": [
      "+----------+------+------+-------------+---------------+-------------+-------------+-------------+-----------------+----+\n",
      "|subject_id|sensor|device|activity_code|      timestamp|            x|            y|            z|         activity|code|\n",
      "+----------+------+------+-------------+---------------+-------------+-------------+-------------+-----------------+----+\n",
      "|      1613|  gyro| phone|            K|175770089551403| -0.009321064|  -0.00479369|-0.0026631611|Drinking from Cup|   K|\n",
      "|      1613|  gyro| phone|            K|175771247834215| -0.006657903| -0.008255799|  -0.00479369|Drinking from Cup|   K|\n",
      "|      1613|  gyro| phone|            K|175781381711294| -0.010386328|-0.0031957934|-7.9894834E-4|Drinking from Cup|   K|\n",
      "|      1613|  gyro| phone|            K|175789282129781|-0.0053263223| -0.005060006| 0.0010652645|Drinking from Cup|   K|\n",
      "|      1613|  gyro| phone|            K|175796666590885| -0.006924219| -0.007190535|-0.0013315806|Drinking from Cup|   K|\n",
      "|      1613|  gyro| phone|            K|175810791172066|-0.0061252704|-0.0053263223|-7.9894834E-4|Drinking from Cup|   K|\n",
      "|      1613|  gyro| phone|            K|175813904292220| -0.007456851| -0.007989483| -0.002396845|Drinking from Cup|   K|\n",
      "|      1613|  gyro| phone|            K|175835333485493|  -0.01304949| -0.010918961|-0.0037284256|Drinking from Cup|   K|\n",
      "|      1613|  gyro| phone|            K|175848980058925| -0.012250541| -0.011451593| -0.006924219|Drinking from Cup|   K|\n",
      "|      1613|  gyro| phone|            K|175851933457102| -0.014114754| -0.004527374|-0.0039947415|Drinking from Cup|   K|\n",
      "|      1613|  gyro| phone|            K|175853848875223| -0.012250541| -0.017044231|  5.326322E-4|Drinking from Cup|   K|\n",
      "|      1613|  gyro| phone|            K|175859874324442|  -0.01304949|-0.0034621095|-0.0063915867|Drinking from Cup|   K|\n",
      "|      1613|  gyro| phone|            K|175860033955224| -0.007456851| -0.005060006| -0.004261058|Drinking from Cup|   K|\n",
      "|      1613|  gyro| phone|            K|175861151247880|  0.004261058|-0.0013315806|  -0.01304949|Drinking from Cup|   K|\n",
      "|      1613|  gyro| phone|            K|175861430575275| -0.018109497|  -0.02396845| 0.0013315806|Drinking from Cup|   K|\n",
      "|      1613|  gyro| phone|            K|175863385860274| -0.007989483|-0.0031957934| -0.011451593|Drinking from Cup|   K|\n",
      "|      1613|  gyro| phone|            K|175863867926003| -0.009321064| -0.004527374|-0.0063915867|Drinking from Cup|   K|\n",
      "|      1613|  gyro| phone|            K|175871725063707|  -0.00479369| -0.012516857| -0.002396845|Drinking from Cup|   K|\n",
      "|      1613|  gyro| phone|            K|175873521478498| -0.012516857| -0.007190535|-0.0061252704|Drinking from Cup|   K|\n",
      "|      1613|  gyro| phone|            K|175883575276255| -0.012516857|-0.0058589545|-0.0037284256|Drinking from Cup|   K|\n",
      "+----------+------+------+-------------+---------------+-------------+-------------+-------------+-----------------+----+\n",
      "only showing top 20 rows\n",
      "\n"
     ]
    }
   ],
   "source": [
    "df_record_activity = df_record.join(activity_code, df_record.activity_code == activity_code.code)\n",
    "cols_repartition_3 = ['subject_id', 'timestamp', 'device', 'sensor']\n",
    "\n",
    "df_record_activity = df_record_activity.repartition(*cols_repartition_3).cache()\n",
    "df_record_activity.show()"
   ]
  },
  {
   "cell_type": "code",
   "execution_count": 10,
   "metadata": {},
   "outputs": [],
   "source": [
    "def f3(x):\n",
    "    determine = 0\n",
    "    x_lower = x.lower()\n",
    "    for s in eating_strings:\n",
    "        if s in x_lower:\n",
    "            determine = 1\n",
    "    return determine\n",
    "            \n",
    "binary_encoder = udf(f3, IntegerType())"
   ]
  },
  {
   "cell_type": "code",
   "execution_count": 11,
   "metadata": {},
   "outputs": [],
   "source": [
    "cols_select_3 = ['subject_id', 'sensor', 'device', 'activity_code', 'timestamp',  'x', 'y', 'z' ]\n",
    "cols_orderBy_3 = ['subject_id', 'timestamp', 'device', 'sensor']\n"
   ]
  },
  {
   "cell_type": "code",
   "execution_count": 12,
   "metadata": {
    "scrolled": false
   },
   "outputs": [
    {
     "name": "stdout",
     "output_type": "stream",
     "text": [
      "+----------+------+------+-------------+--------------+----------+----------+----------+------+\n",
      "|subject_id|sensor|device|activity_code|     timestamp|         x|         y|         z|eating|\n",
      "+----------+------+------+-------------+--------------+----------+----------+----------+------+\n",
      "|      1600| accel| watch|            D|79817308824838|-0.1666963| 1.5316905| 10.057592|     0|\n",
      "|      1600| accel| watch|            D|79817358500488|  3.613748|-1.0540473| 11.779023|     0|\n",
      "|      1600|  gyro| watch|            D|79817358500488| -1.365979|-1.5444704|-1.6969953|     0|\n",
      "|      1600| accel| watch|            D|79817408176138| 2.0886416|-3.4386723|  12.97373|     0|\n",
      "|      1600|  gyro| watch|            D|79817408176138|-1.9071333|-1.2696322|-1.8173702|     0|\n",
      "+----------+------+------+-------------+--------------+----------+----------+----------+------+\n",
      "only showing top 5 rows\n",
      "\n"
     ]
    }
   ],
   "source": [
    "df_record_w_eating = df_record_activity.select(*cols_select_3, binary_encoder('activity')).orderBy(*cols_orderBy_3)\\\n",
    "                  .withColumnRenamed('f3(activity)', 'eating')\n",
    "\n",
    "df_record_w_eating.show(n)"
   ]
  },
  {
   "cell_type": "code",
   "execution_count": 13,
   "metadata": {},
   "outputs": [
    {
     "data": {
      "text/plain": [
       "15630426"
      ]
     },
     "execution_count": 13,
     "metadata": {},
     "output_type": "execute_result"
    }
   ],
   "source": [
    "df_record_w_eating.count()"
   ]
  },
  {
   "cell_type": "code",
   "execution_count": 14,
   "metadata": {},
   "outputs": [
    {
     "data": {
      "text/plain": [
       "15630426"
      ]
     },
     "execution_count": 14,
     "metadata": {},
     "output_type": "execute_result"
    }
   ],
   "source": [
    "df_record.count()"
   ]
  },
  {
   "cell_type": "code",
   "execution_count": 15,
   "metadata": {},
   "outputs": [
    {
     "name": "stdout",
     "output_type": "stream",
     "text": [
      "root\n",
      " |-- subject_id: integer (nullable = false)\n",
      " |-- sensor: string (nullable = false)\n",
      " |-- device: string (nullable = false)\n",
      " |-- activity_code: string (nullable = false)\n",
      " |-- timestamp: long (nullable = false)\n",
      " |-- x: float (nullable = false)\n",
      " |-- y: float (nullable = false)\n",
      " |-- z: float (nullable = false)\n",
      " |-- eating: integer (nullable = true)\n",
      "\n"
     ]
    }
   ],
   "source": [
    "df_record_w_eating.printSchema()"
   ]
  },
  {
   "cell_type": "markdown",
   "metadata": {},
   "source": [
    "# 4. Create features for the coordinates for accelerometer and gyroscope"
   ]
  },
  {
   "cell_type": "code",
   "execution_count": 16,
   "metadata": {},
   "outputs": [
    {
     "name": "stdout",
     "output_type": "stream",
     "text": [
      "+----------+------+------+-------------+--------------+----------+----------+---------+------+\n",
      "|subject_id|sensor|device|activity_code|     timestamp|   accel_x|   accel_y|  accel_z|eating|\n",
      "+----------+------+------+-------------+--------------+----------+----------+---------+------+\n",
      "|      1600| accel| watch|            D|79817308824838|-0.1666963| 1.5316905|10.057592|     0|\n",
      "|      1600| accel| watch|            D|79817358500488|  3.613748|-1.0540473|11.779023|     0|\n",
      "|      1600| accel| watch|            D|79817408176138| 2.0886416|-3.4386723| 12.97373|     0|\n",
      "|      1600| accel| watch|            D|79817457851788| 1.7319057|-2.5504234| 9.820566|     0|\n",
      "|      1600| accel| watch|            D|79817507527438| 3.0319571|-2.7802668|14.082246|     0|\n",
      "+----------+------+------+-------------+--------------+----------+----------+---------+------+\n",
      "only showing top 5 rows\n",
      "\n"
     ]
    }
   ],
   "source": [
    "df_accel = df_record_w_eating.filter(\"sensor == 'accel'\")\\\n",
    "                             .withColumnRenamed('x', 'accel_x')\\\n",
    "                             .withColumnRenamed('y', 'accel_y')\\\n",
    "                             .withColumnRenamed('z', 'accel_z')\n",
    "df_accel.show(5)"
   ]
  },
  {
   "cell_type": "code",
   "execution_count": 17,
   "metadata": {
    "scrolled": true
   },
   "outputs": [
    {
     "name": "stdout",
     "output_type": "stream",
     "text": [
      "+----------+------+------+-------------+--------------+-----------+-----------+------------+------+\n",
      "|subject_id|sensor|device|activity_code|     timestamp|     gyro_x|     gyro_y|      gyro_z|eating|\n",
      "+----------+------+------+-------------+--------------+-----------+-----------+------------+------+\n",
      "|      1600|  gyro| watch|            D|79817358500488|  -1.365979| -1.5444704|  -1.6969953|     0|\n",
      "|      1600|  gyro| watch|            D|79817408176138| -1.9071333| -1.2696322|  -1.8173702|     0|\n",
      "|      1600|  gyro| watch|            D|79817457851788| -1.4416127|-0.42487752| -0.28658515|     0|\n",
      "|      1600|  gyro| watch|            D|79817507527438|  1.1480451| -1.4720324|  0.23645967|     0|\n",
      "|      1600|  gyro| watch|            D|79817557203088|-0.67249185|0.048099883|-0.059683837|     0|\n",
      "+----------+------+------+-------------+--------------+-----------+-----------+------------+------+\n",
      "only showing top 5 rows\n",
      "\n"
     ]
    }
   ],
   "source": [
    "df_gyro = df_record_w_eating.filter(\"sensor == 'gyro'\")\\\n",
    "                              .withColumnRenamed('x', 'gyro_x')\\\n",
    "                              .withColumnRenamed('y', 'gyro_y')\\\n",
    "                              .withColumnRenamed('z', 'gyro_z')\n",
    "df_gyro.show(5)\n"
   ]
  },
  {
   "cell_type": "code",
   "execution_count": 18,
   "metadata": {},
   "outputs": [
    {
     "data": {
      "text/plain": [
       "5901089"
      ]
     },
     "execution_count": 18,
     "metadata": {},
     "output_type": "execute_result"
    }
   ],
   "source": [
    "cond = (df_accel.activity_code == df_gyro.activity_code)\\\n",
    "        & (df_accel.device == df_gyro.device)\\\n",
    "        & (df_accel.timestamp == df_gyro.timestamp)\n",
    "\n",
    "cols_rearrange_4= ['activity_code', 'subject_id', 'timestamp', 'device', 'eating', 'accel_x', 'accel_y', 'accel_z', 'gyro_x', 'gyro_y', 'gyro_z']\n",
    "\n",
    "df_same_activity_device_time = df_accel.join(df_gyro, cond).distinct()\n",
    "df_same_activity_device_time.count()"
   ]
  },
  {
   "cell_type": "code",
   "execution_count": 19,
   "metadata": {
    "scrolled": true
   },
   "outputs": [
    {
     "name": "stdout",
     "output_type": "stream",
     "text": [
      "+-------------+----------+-------------+------+------+-----------+----------+----------+-----------+----------+-----------+\n",
      "|activity_code|subject_id|    timestamp|device|eating|    accel_x|   accel_y|   accel_z|     gyro_x|    gyro_y|     gyro_z|\n",
      "+-------------+----------+-------------+------+------+-----------+----------+----------+-----------+----------+-----------+\n",
      "|            A|      1623|2520873744873| phone|     0| -2.7174225|-2.9451294| 0.4654541| 0.65600586|-0.7966461| -0.4618988|\n",
      "|            A|      1623|2525808428600| phone|     0|   4.735489| -13.04805|-1.6248474|   -1.61586|-0.5095062|-0.42541504|\n",
      "|            A|      1623|2529887102917| phone|     0|-0.13652039| -9.755417|-1.0368042|  1.0764465|  0.411911| 0.55474854|\n",
      "|            A|      1623|2541569242466| phone|     0|  2.7370605| -11.87529|-1.1391144|  1.6962128| 1.2458191|  0.1650238|\n",
      "|            A|      1623|2546604630192| phone|     0| -1.4176025|-3.7265472|  0.475235|-0.96173096|-1.7243805| -0.5609436|\n",
      "+-------------+----------+-------------+------+------+-----------+----------+----------+-----------+----------+-----------+\n",
      "only showing top 5 rows\n",
      "\n"
     ]
    }
   ],
   "source": [
    "df_same_ag = df_same_activity_device_time.drop(df_gyro.subject_id)\\\n",
    "                                        .drop(df_gyro.activity_code)\\\n",
    "                                        .drop(df_gyro.device)\\\n",
    "                                        .drop(df_gyro.eating)\\\n",
    "                                        .drop(df_gyro.timestamp)\\\n",
    "                                        .select(cols_rearrange_4)\n",
    "\n",
    "df_same_ag.show(5)"
   ]
  },
  {
   "cell_type": "markdown",
   "metadata": {},
   "source": [
    "# 5. Create feature for the coordinate readings which are 1-5 rows after the current row"
   ]
  },
  {
   "cell_type": "code",
   "execution_count": 20,
   "metadata": {},
   "outputs": [],
   "source": [
    "cols_partitionBy_5 = ['subject_id', 'activity_code', 'device']\n",
    "cols_orderBy_5 = ['subject_id', 'activity_code', 'device', 'timestamp']\n",
    "\n",
    "windowsSpec = Window.partitionBy(cols_partitionBy_5).orderBy(cols_orderBy_5)"
   ]
  },
  {
   "cell_type": "code",
   "execution_count": 21,
   "metadata": {},
   "outputs": [],
   "source": [
    "cols_orderBy_5 = ['subject_id', 'activity_code', 'device', 'timestamp']\n",
    "\n",
    "current_ord_columns = df_same_ag.columns[-6:]"
   ]
  },
  {
   "cell_type": "code",
   "execution_count": 22,
   "metadata": {},
   "outputs": [
    {
     "name": "stdout",
     "output_type": "stream",
     "text": [
      "+-------------+----------+---------------+------+------+-----------+---------+-----------+-----------+-----------+-----------+--------------+--------------+--------------+-------------+-------------+-------------+--------------+--------------+--------------+-------------+-------------+-------------+--------------+--------------+--------------+-------------+-------------+-------------+\n",
      "|activity_code|subject_id|      timestamp|device|eating|    accel_x|  accel_y|    accel_z|     gyro_x|     gyro_y|     gyro_z|lead_1_accel_x|lead_1_accel_y|lead_1_accel_z|lead_1_gyro_x|lead_1_gyro_y|lead_1_gyro_z|lead_2_accel_x|lead_2_accel_y|lead_2_accel_z|lead_2_gyro_x|lead_2_gyro_y|lead_2_gyro_z|lead_3_accel_x|lead_3_accel_y|lead_3_accel_z|lead_3_gyro_x|lead_3_gyro_y|lead_3_gyro_z|\n",
      "+-------------+----------+---------------+------+------+-----------+---------+-----------+-----------+-----------+-----------+--------------+--------------+--------------+-------------+-------------+-------------+--------------+--------------+--------------+-------------+-------------+-------------+--------------+--------------+--------------+-------------+-------------+-------------+\n",
      "|            A|      1600|252207918580802| phone|     0|  -4.332779|13.361191| -0.7188721|-0.85321045| 0.29722595|  0.8901825|   -0.31944275|     13.318359|   -0.23202515|   -0.8751373|  0.015472412|   0.16223145|      1.566452|      9.515274|   -0.01777649|  -0.72016907|   0.38848877|  -0.28401184|   -0.32374573|      5.262665|    0.32234192|     -0.57164|    1.2274017|   -0.2416687|\n",
      "|            A|      1600|252207968934806| phone|     0|-0.31944275|13.318359|-0.23202515| -0.8751373|0.015472412| 0.16223145|      1.566452|      9.515274|   -0.01777649|  -0.72016907|   0.38848877|  -0.28401184|   -0.32374573|      5.262665|    0.32234192|     -0.57164|    1.2274017|   -0.2416687|     -1.811676|     3.7105103|     1.3739319|  -0.38049316|    1.2028351|  -0.21313477|\n",
      "|            A|      1600|252208019288809| phone|     0|   1.566452| 9.515274|-0.01777649|-0.72016907| 0.38848877|-0.28401184|   -0.32374573|      5.262665|    0.32234192|     -0.57164|    1.2274017|   -0.2416687|     -1.811676|     3.7105103|     1.3739319|  -0.38049316|    1.2028351|  -0.21313477|    -1.1340485|      4.538269|     2.2975464|   -0.2257843|     0.558136|    0.1244812|\n",
      "|            A|      1600|252208069642813| phone|     0|-0.32374573| 5.262665| 0.32234192|   -0.57164|  1.2274017| -0.2416687|     -1.811676|     3.7105103|     1.3739319|  -0.38049316|    1.2028351|  -0.21313477|    -1.1340485|      4.538269|     2.2975464|   -0.2257843|     0.558136|    0.1244812|    0.09291077|     6.7061005|     1.8996277|   0.12780762|   0.38006592|   0.55288696|\n",
      "|            A|      1600|252208119996817| phone|     0|  -1.811676|3.7105103|  1.3739319|-0.38049316|  1.2028351|-0.21313477|    -1.1340485|      4.538269|     2.2975464|   -0.2257843|     0.558136|    0.1244812|    0.09291077|     6.7061005|     1.8996277|   0.12780762|   0.38006592|   0.55288696|    -1.0363159|     15.611984|     2.6415253|    -0.513504|    0.3798523|   0.33229065|\n",
      "+-------------+----------+---------------+------+------+-----------+---------+-----------+-----------+-----------+-----------+--------------+--------------+--------------+-------------+-------------+-------------+--------------+--------------+--------------+-------------+-------------+-------------+--------------+--------------+--------------+-------------+-------------+-------------+\n",
      "only showing top 5 rows\n",
      "\n"
     ]
    }
   ],
   "source": [
    "for i in range(1, window_size+1):\n",
    "    for col in current_ord_columns:\n",
    "        df_same_ag = df_same_ag.withColumn('lead_'+f'{i}'+f'_{col}', lead(col, i).over(windowsSpec))\n",
    "        \n",
    "df_same_ag = df_same_ag.orderBy(cols_orderBy_5)\n",
    "df_same_ag.show(n)"
   ]
  },
  {
   "cell_type": "code",
   "execution_count": 23,
   "metadata": {},
   "outputs": [
    {
     "name": "stdout",
     "output_type": "stream",
     "text": [
      "+----------+---------------+------+------+-----------+---------+-----------+-----------+-----------+-----------+--------------+--------------+--------------+-------------+-------------+-------------+--------------+--------------+--------------+-------------+-------------+-------------+--------------+--------------+--------------+-------------+-------------+-------------+\n",
      "|subject_id|      timestamp|device|eating|    accel_x|  accel_y|    accel_z|     gyro_x|     gyro_y|     gyro_z|lead_1_accel_x|lead_1_accel_y|lead_1_accel_z|lead_1_gyro_x|lead_1_gyro_y|lead_1_gyro_z|lead_2_accel_x|lead_2_accel_y|lead_2_accel_z|lead_2_gyro_x|lead_2_gyro_y|lead_2_gyro_z|lead_3_accel_x|lead_3_accel_y|lead_3_accel_z|lead_3_gyro_x|lead_3_gyro_y|lead_3_gyro_z|\n",
      "+----------+---------------+------+------+-----------+---------+-----------+-----------+-----------+-----------+--------------+--------------+--------------+-------------+-------------+-------------+--------------+--------------+--------------+-------------+-------------+-------------+--------------+--------------+--------------+-------------+-------------+-------------+\n",
      "|      1600|252207918580802| phone|     0|  -4.332779|13.361191| -0.7188721|-0.85321045| 0.29722595|  0.8901825|   -0.31944275|     13.318359|   -0.23202515|   -0.8751373|  0.015472412|   0.16223145|      1.566452|      9.515274|   -0.01777649|  -0.72016907|   0.38848877|  -0.28401184|   -0.32374573|      5.262665|    0.32234192|     -0.57164|    1.2274017|   -0.2416687|\n",
      "|      1600|252207968934806| phone|     0|-0.31944275|13.318359|-0.23202515| -0.8751373|0.015472412| 0.16223145|      1.566452|      9.515274|   -0.01777649|  -0.72016907|   0.38848877|  -0.28401184|   -0.32374573|      5.262665|    0.32234192|     -0.57164|    1.2274017|   -0.2416687|     -1.811676|     3.7105103|     1.3739319|  -0.38049316|    1.2028351|  -0.21313477|\n",
      "|      1600|252208019288809| phone|     0|   1.566452| 9.515274|-0.01777649|-0.72016907| 0.38848877|-0.28401184|   -0.32374573|      5.262665|    0.32234192|     -0.57164|    1.2274017|   -0.2416687|     -1.811676|     3.7105103|     1.3739319|  -0.38049316|    1.2028351|  -0.21313477|    -1.1340485|      4.538269|     2.2975464|   -0.2257843|     0.558136|    0.1244812|\n",
      "|      1600|252208069642813| phone|     0|-0.32374573| 5.262665| 0.32234192|   -0.57164|  1.2274017| -0.2416687|     -1.811676|     3.7105103|     1.3739319|  -0.38049316|    1.2028351|  -0.21313477|    -1.1340485|      4.538269|     2.2975464|   -0.2257843|     0.558136|    0.1244812|    0.09291077|     6.7061005|     1.8996277|   0.12780762|   0.38006592|   0.55288696|\n",
      "|      1600|252208119996817| phone|     0|  -1.811676|3.7105103|  1.3739319|-0.38049316|  1.2028351|-0.21313477|    -1.1340485|      4.538269|     2.2975464|   -0.2257843|     0.558136|    0.1244812|    0.09291077|     6.7061005|     1.8996277|   0.12780762|   0.38006592|   0.55288696|    -1.0363159|     15.611984|     2.6415253|    -0.513504|    0.3798523|   0.33229065|\n",
      "+----------+---------------+------+------+-----------+---------+-----------+-----------+-----------+-----------+--------------+--------------+--------------+-------------+-------------+-------------+--------------+--------------+--------------+-------------+-------------+-------------+--------------+--------------+--------------+-------------+-------------+-------------+\n",
      "only showing top 5 rows\n",
      "\n"
     ]
    }
   ],
   "source": [
    "df_same_ag_w_lead = df_same_ag.drop('activity_code')\n",
    "\n",
    "df_same_ag_w_lead.show(n)"
   ]
  },
  {
   "cell_type": "markdown",
   "metadata": {},
   "source": [
    "# 6. One-hot encode device feature"
   ]
  },
  {
   "cell_type": "code",
   "execution_count": 24,
   "metadata": {},
   "outputs": [],
   "source": [
    "def indexStringColumns(df, cols):\n",
    "    #variable newdf will be updated several times\n",
    "    newdf = df\n",
    "    \n",
    "    for c in cols:\n",
    "        #For each given colum, fits StringIndexerModel.\n",
    "        si = StringIndexer(inputCol=c, outputCol=c+\"-num\")\n",
    "        sm = si.fit(newdf)\n",
    "        #Creates a DataFame by putting the transformed values in the new colum with suffix \"-num\" \n",
    "        #and then drops the original columns.\n",
    "        #and drop the \"-num\" suffix. \n",
    "        newdf = sm.transform(newdf).drop(c)\n",
    "        newdf = newdf.withColumnRenamed(c+\"-num\", c)\n",
    "    return newdf\n",
    "\n",
    "dfnumeric = indexStringColumns(df_same_ag, [\"device\"])"
   ]
  },
  {
   "cell_type": "code",
   "execution_count": 25,
   "metadata": {},
   "outputs": [],
   "source": [
    "def oneHotEncodeColumns(df, cols):\n",
    "    newdf = df\n",
    "    for c in cols:\n",
    "        #For each given colum, create OneHotEncoder. \n",
    "        #dropLast : Whether to drop the last category in the encoded vector (default: true)\n",
    "        ohe = OneHotEncoder(inputCol=c, outputCol=c+\"-onehot\", dropLast=False)\n",
    "        ohe_model = ohe.fit(newdf)\n",
    "        #Creates a DataFame by putting the transformed values in the new colum with suffix \"-onehot\" \n",
    "        #and then drops the original columns.\n",
    "        #and drop the \"-onehot\" suffix. \n",
    "        newdf = ohe_model.transform(newdf).drop(c)\n",
    "        newdf = newdf.withColumnRenamed(c+\"-onehot\", c)\n",
    "    return newdf\n",
    "\n",
    "dfhot = oneHotEncodeColumns(dfnumeric, [\"device\"])  "
   ]
  },
  {
   "cell_type": "code",
   "execution_count": 26,
   "metadata": {},
   "outputs": [],
   "source": [
    "dfhot_columns = dfhot.columns[1:3] + ['device'] + dfhot.columns[4:-1]\n",
    "cols_orderBy_6 = ['subject_id', 'timestamp', 'device']\n"
   ]
  },
  {
   "cell_type": "code",
   "execution_count": 27,
   "metadata": {},
   "outputs": [
    {
     "name": "stdout",
     "output_type": "stream",
     "text": [
      "+----------+--------------+-------------+---------+----------+---------+-----------+-----------+------------+--------------+--------------+--------------+-------------+-------------+-------------+--------------+--------------+--------------+-------------+-------------+-------------+--------------+--------------+--------------+-------------+-------------+-------------+\n",
      "|subject_id|     timestamp|       device|  accel_x|   accel_y|  accel_z|     gyro_x|     gyro_y|      gyro_z|lead_1_accel_x|lead_1_accel_y|lead_1_accel_z|lead_1_gyro_x|lead_1_gyro_y|lead_1_gyro_z|lead_2_accel_x|lead_2_accel_y|lead_2_accel_z|lead_2_gyro_x|lead_2_gyro_y|lead_2_gyro_z|lead_3_accel_x|lead_3_accel_y|lead_3_accel_z|lead_3_gyro_x|lead_3_gyro_y|lead_3_gyro_z|\n",
      "+----------+--------------+-------------+---------+----------+---------+-----------+-----------+------------+--------------+--------------+--------------+-------------+-------------+-------------+--------------+--------------+--------------+-------------+-------------+-------------+--------------+--------------+--------------+-------------+-------------+-------------+\n",
      "|      1600|79817358500488|(2,[0],[1.0])| 3.613748|-1.0540473|11.779023|  -1.365979| -1.5444704|  -1.6969953|     2.0886416|    -3.4386723|      12.97373|   -1.9071333|   -1.2696322|   -1.8173702|     1.7319057|    -2.5504234|      9.820566|   -1.4416127|  -0.42487752|  -0.28658515|     3.0319571|    -2.7802668|     14.082246|    1.1480451|   -1.4720324|   0.23645967|\n",
      "|      1600|79817408176138|(2,[0],[1.0])|2.0886416|-3.4386723| 12.97373| -1.9071333| -1.2696322|  -1.8173702|     1.7319057|    -2.5504234|      9.820566|   -1.4416127|  -0.42487752|  -0.28658515|     3.0319571|    -2.7802668|     14.082246|    1.1480451|   -1.4720324|   0.23645967|     4.6025534|      2.984971|      11.19005|  -0.67249185|  0.048099883| -0.059683837|\n",
      "|      1600|79817457851788|(2,[0],[1.0])|1.7319057|-2.5504234| 9.820566| -1.4416127|-0.42487752| -0.28658515|     3.0319571|    -2.7802668|     14.082246|    1.1480451|   -1.4720324|   0.23645967|     4.6025534|      2.984971|      11.19005|  -0.67249185|  0.048099883| -0.059683837|     2.7781718|    -3.9630024|      8.211663|   -1.2296251| -0.042447593|  -0.72973514|\n",
      "|      1600|79817507527438|(2,[0],[1.0])|3.0319571|-2.7802668|14.082246|  1.1480451| -1.4720324|  0.23645967|     4.6025534|      2.984971|      11.19005|  -0.67249185|  0.048099883| -0.059683837|     2.7781718|    -3.9630024|      8.211663|   -1.2296251| -0.042447593|  -0.72973514|     3.4772787|     1.0720038|      9.494955|  0.012473181|  -0.33646056|  -0.26847565|\n",
      "|      1600|79817557203088|(2,[0],[1.0])|4.6025534|  2.984971| 11.19005|-0.67249185|0.048099883|-0.059683837|     2.7781718|    -3.9630024|      8.211663|   -1.2296251| -0.042447593|  -0.72973514|     3.4772787|     1.0720038|      9.494955|  0.012473181|  -0.33646056|  -0.26847565|     3.9154177|     -4.099472|     10.416722|   0.17545864|  0.033186182|  -0.12040391|\n",
      "+----------+--------------+-------------+---------+----------+---------+-----------+-----------+------------+--------------+--------------+--------------+-------------+-------------+-------------+--------------+--------------+--------------+-------------+-------------+-------------+--------------+--------------+--------------+-------------+-------------+-------------+\n",
      "only showing top 5 rows\n",
      "\n"
     ]
    }
   ],
   "source": [
    "dfhot_rearrange = dfhot.orderBy(cols_orderBy_6).select(dfhot_columns)\n",
    "\n",
    "dfhot_rearrange.show(n)"
   ]
  },
  {
   "cell_type": "markdown",
   "metadata": {},
   "source": [
    "# 7. Create a feature column which assembles the coordinate features"
   ]
  },
  {
   "cell_type": "code",
   "execution_count": 28,
   "metadata": {},
   "outputs": [],
   "source": [
    "input_cols_va = dfhot.columns[4:-1]"
   ]
  },
  {
   "cell_type": "code",
   "execution_count": 29,
   "metadata": {},
   "outputs": [
    {
     "name": "stdout",
     "output_type": "stream",
     "text": [
      "+-------------+----------+---------------+------+-----------+---------+-----------+-----------+-----------+-----------+--------------+--------------+--------------+-------------+-------------+-------------+--------------+--------------+--------------+-------------+-------------+-------------+--------------+--------------+--------------+-------------+-------------+-------------+-------------+--------------------+\n",
      "|activity_code|subject_id|      timestamp|eating|    accel_x|  accel_y|    accel_z|     gyro_x|     gyro_y|     gyro_z|lead_1_accel_x|lead_1_accel_y|lead_1_accel_z|lead_1_gyro_x|lead_1_gyro_y|lead_1_gyro_z|lead_2_accel_x|lead_2_accel_y|lead_2_accel_z|lead_2_gyro_x|lead_2_gyro_y|lead_2_gyro_z|lead_3_accel_x|lead_3_accel_y|lead_3_accel_z|lead_3_gyro_x|lead_3_gyro_y|lead_3_gyro_z|       device|            features|\n",
      "+-------------+----------+---------------+------+-----------+---------+-----------+-----------+-----------+-----------+--------------+--------------+--------------+-------------+-------------+-------------+--------------+--------------+--------------+-------------+-------------+-------------+--------------+--------------+--------------+-------------+-------------+-------------+-------------+--------------------+\n",
      "|            A|      1600|252207918580802|     0|  -4.332779|13.361191| -0.7188721|-0.85321045| 0.29722595|  0.8901825|   -0.31944275|     13.318359|   -0.23202515|   -0.8751373|  0.015472412|   0.16223145|      1.566452|      9.515274|   -0.01777649|  -0.72016907|   0.38848877|  -0.28401184|   -0.32374573|      5.262665|    0.32234192|     -0.57164|    1.2274017|   -0.2416687|(2,[1],[1.0])|[-4.3327789306640...|\n",
      "|            A|      1600|252207968934806|     0|-0.31944275|13.318359|-0.23202515| -0.8751373|0.015472412| 0.16223145|      1.566452|      9.515274|   -0.01777649|  -0.72016907|   0.38848877|  -0.28401184|   -0.32374573|      5.262665|    0.32234192|     -0.57164|    1.2274017|   -0.2416687|     -1.811676|     3.7105103|     1.3739319|  -0.38049316|    1.2028351|  -0.21313477|(2,[1],[1.0])|[-0.3194427490234...|\n",
      "|            A|      1600|252208019288809|     0|   1.566452| 9.515274|-0.01777649|-0.72016907| 0.38848877|-0.28401184|   -0.32374573|      5.262665|    0.32234192|     -0.57164|    1.2274017|   -0.2416687|     -1.811676|     3.7105103|     1.3739319|  -0.38049316|    1.2028351|  -0.21313477|    -1.1340485|      4.538269|     2.2975464|   -0.2257843|     0.558136|    0.1244812|(2,[1],[1.0])|[1.56645202636718...|\n",
      "|            A|      1600|252208069642813|     0|-0.32374573| 5.262665| 0.32234192|   -0.57164|  1.2274017| -0.2416687|     -1.811676|     3.7105103|     1.3739319|  -0.38049316|    1.2028351|  -0.21313477|    -1.1340485|      4.538269|     2.2975464|   -0.2257843|     0.558136|    0.1244812|    0.09291077|     6.7061005|     1.8996277|   0.12780762|   0.38006592|   0.55288696|(2,[1],[1.0])|[-0.3237457275390...|\n",
      "|            A|      1600|252208119996817|     0|  -1.811676|3.7105103|  1.3739319|-0.38049316|  1.2028351|-0.21313477|    -1.1340485|      4.538269|     2.2975464|   -0.2257843|     0.558136|    0.1244812|    0.09291077|     6.7061005|     1.8996277|   0.12780762|   0.38006592|   0.55288696|    -1.0363159|     15.611984|     2.6415253|    -0.513504|    0.3798523|   0.33229065|(2,[1],[1.0])|[-1.8116760253906...|\n",
      "+-------------+----------+---------------+------+-----------+---------+-----------+-----------+-----------+-----------+--------------+--------------+--------------+-------------+-------------+-------------+--------------+--------------+--------------+-------------+-------------+-------------+--------------+--------------+--------------+-------------+-------------+-------------+-------------+--------------------+\n",
      "only showing top 5 rows\n",
      "\n"
     ]
    }
   ],
   "source": [
    "va = VectorAssembler(outputCol=\"features\", inputCols=input_cols_va, handleInvalid='skip')\n",
    "lpoints = va.transform(dfhot)\n",
    "lpoints.show(n)"
   ]
  },
  {
   "cell_type": "code",
   "execution_count": 30,
   "metadata": {},
   "outputs": [],
   "source": [
    "def standard_scaler(input_df):\n",
    "    df = input_df\n",
    "  \n",
    "    scaler = StandardScaler(inputCol=\"features\", outputCol=\"features_scaled\", withMean=True, withStd=True)\n",
    "\n",
    "    standard_scaler_transformer = scaler.fit(df)\n",
    "\n",
    "    # Normalize each feature to have unit standard deviation.\n",
    "    df = standard_scaler_transformer.transform(df).drop(\"features\")\n",
    "    df = df.withColumnRenamed(\"features_scaled\", \"features\")\n",
    "    return df\n",
    "\n",
    "\n",
    "lpoints_scaled = standard_scaler(lpoints).cache()"
   ]
  },
  {
   "cell_type": "code",
   "execution_count": 31,
   "metadata": {
    "scrolled": true
   },
   "outputs": [
    {
     "name": "stdout",
     "output_type": "stream",
     "text": [
      "+-------------+----------+---------------+------+-----------+---------+-----------+-----------+-----------+-----------+--------------+--------------+--------------+-------------+-------------+-------------+--------------+--------------+--------------+-------------+-------------+-------------+--------------+--------------+--------------+-------------+-------------+-------------+-------------+--------------------+\n",
      "|activity_code|subject_id|      timestamp|eating|    accel_x|  accel_y|    accel_z|     gyro_x|     gyro_y|     gyro_z|lead_1_accel_x|lead_1_accel_y|lead_1_accel_z|lead_1_gyro_x|lead_1_gyro_y|lead_1_gyro_z|lead_2_accel_x|lead_2_accel_y|lead_2_accel_z|lead_2_gyro_x|lead_2_gyro_y|lead_2_gyro_z|lead_3_accel_x|lead_3_accel_y|lead_3_accel_z|lead_3_gyro_x|lead_3_gyro_y|lead_3_gyro_z|       device|            features|\n",
      "+-------------+----------+---------------+------+-----------+---------+-----------+-----------+-----------+-----------+--------------+--------------+--------------+-------------+-------------+-------------+--------------+--------------+--------------+-------------+-------------+-------------+--------------+--------------+--------------+-------------+-------------+-------------+-------------+--------------------+\n",
      "|            A|      1600|252207918580802|     0|  -4.332779|13.361191| -0.7188721|-0.85321045| 0.29722595|  0.8901825|   -0.31944275|     13.318359|   -0.23202515|   -0.8751373|  0.015472412|   0.16223145|      1.566452|      9.515274|   -0.01777649|  -0.72016907|   0.38848877|  -0.28401184|   -0.32374573|      5.262665|    0.32234192|     -0.57164|    1.2274017|   -0.2416687|(2,[1],[1.0])|[-0.7472960071789...|\n",
      "|            A|      1600|252207968934806|     0|-0.31944275|13.318359|-0.23202515| -0.8751373|0.015472412| 0.16223145|      1.566452|      9.515274|   -0.01777649|  -0.72016907|   0.38848877|  -0.28401184|   -0.32374573|      5.262665|    0.32234192|     -0.57164|    1.2274017|   -0.2416687|     -1.811676|     3.7105103|     1.3739319|  -0.38049316|    1.2028351|  -0.21313477|(2,[1],[1.0])|[-0.1250546242503...|\n",
      "|            A|      1600|252208019288809|     0|   1.566452| 9.515274|-0.01777649|-0.72016907| 0.38848877|-0.28401184|   -0.32374573|      5.262665|    0.32234192|     -0.57164|    1.2274017|   -0.2416687|     -1.811676|     3.7105103|     1.3739319|  -0.38049316|    1.2028351|  -0.21313477|    -1.1340485|      4.538269|     2.2975464|   -0.2257843|     0.558136|    0.1244812|(2,[1],[1.0])|[0.16734095887199...|\n",
      "|            A|      1600|252208069642813|     0|-0.32374573| 5.262665| 0.32234192|   -0.57164|  1.2274017| -0.2416687|     -1.811676|     3.7105103|     1.3739319|  -0.38049316|    1.2028351|  -0.21313477|    -1.1340485|      4.538269|     2.2975464|   -0.2257843|     0.558136|    0.1244812|    0.09291077|     6.7061005|     1.8996277|   0.12780762|   0.38006592|   0.55288696|(2,[1],[1.0])|[-0.1257217727724...|\n",
      "|            A|      1600|252208119996817|     0|  -1.811676|3.7105103|  1.3739319|-0.38049316|  1.2028351|-0.21313477|    -1.1340485|      4.538269|     2.2975464|   -0.2257843|     0.558136|    0.1244812|    0.09291077|     6.7061005|     1.8996277|   0.12780762|   0.38006592|   0.55288696|    -1.0363159|     15.611984|     2.6415253|    -0.513504|    0.3798523|   0.33229065|(2,[1],[1.0])|[-0.3564155807000...|\n",
      "+-------------+----------+---------------+------+-----------+---------+-----------+-----------+-----------+-----------+--------------+--------------+--------------+-------------+-------------+-------------+--------------+--------------+--------------+-------------+-------------+-------------+--------------+--------------+--------------+-------------+-------------+-------------+-------------+--------------------+\n",
      "only showing top 5 rows\n",
      "\n"
     ]
    }
   ],
   "source": [
    "lpoints_scaled.show(n)"
   ]
  },
  {
   "cell_type": "code",
   "execution_count": 32,
   "metadata": {},
   "outputs": [],
   "source": [
    "cols_orderBy_7 = ['subject_id', 'activity_code', 'device', 'timestamp']\n",
    "cols_select_7 = ['eating', 'device', 'features']\n"
   ]
  },
  {
   "cell_type": "code",
   "execution_count": 33,
   "metadata": {},
   "outputs": [
    {
     "name": "stdout",
     "output_type": "stream",
     "text": [
      "+------+-------------+--------------------+\n",
      "|eating|       device|            features|\n",
      "+------+-------------+--------------------+\n",
      "|     0|(2,[0],[1.0])|[0.69546612359028...|\n",
      "|     0|(2,[0],[1.0])|[0.42894076955912...|\n",
      "|     0|(2,[0],[1.0])|[0.35878297556336...|\n",
      "|     0|(2,[0],[1.0])|[0.50912109499279...|\n",
      "|     0|(2,[0],[1.0])|[0.64720949074113...|\n",
      "+------+-------------+--------------------+\n",
      "only showing top 5 rows\n",
      "\n"
     ]
    }
   ],
   "source": [
    "lpoints_scaled_clean = lpoints_scaled.select(cols_select_7).orderBy(cols_orderBy_7)\n",
    "lpoints_scaled_clean.show(n)"
   ]
  },
  {
   "cell_type": "markdown",
   "metadata": {},
   "source": [
    "# 8. Assemble features and device columns"
   ]
  },
  {
   "cell_type": "code",
   "execution_count": 34,
   "metadata": {},
   "outputs": [
    {
     "name": "stdout",
     "output_type": "stream",
     "text": [
      "+------+-------------+--------------------+\n",
      "|eating|       device|            features|\n",
      "+------+-------------+--------------------+\n",
      "|     0|(2,[0],[1.0])|[0.69546612359028...|\n",
      "|     0|(2,[0],[1.0])|[0.42894076955912...|\n",
      "|     0|(2,[0],[1.0])|[0.35878297556336...|\n",
      "|     0|(2,[0],[1.0])|[0.50912109499279...|\n",
      "|     0|(2,[0],[1.0])|[0.64720949074113...|\n",
      "+------+-------------+--------------------+\n",
      "only showing top 5 rows\n",
      "\n"
     ]
    }
   ],
   "source": [
    "lpoints_scaled_clean.show(5)"
   ]
  },
  {
   "cell_type": "code",
   "execution_count": 46,
   "metadata": {},
   "outputs": [],
   "source": [
    "input_cols_va_w_device = ['features', 'device']\n",
    "cols_orderBy_8 = ['device', 'features_w_device']\n"
   ]
  },
  {
   "cell_type": "code",
   "execution_count": 47,
   "metadata": {
    "scrolled": true
   },
   "outputs": [],
   "source": [
    "va_w_device = VectorAssembler(outputCol=\"features_w_device\", inputCols=input_cols_va_w_device, handleInvalid='skip')\n",
    "lpoints_w_device = va_w_device.transform(lpoints_scaled_clean)\n",
    "lpoints_w_device_ordered = lpoints_w_device.orderBy(cols_orderBy_8).select('features_w_device', 'eating')\\\n",
    "                                            .withColumnRenamed(\"eating\", \"label\")\\\n",
    "                                            .withColumnRenamed(\"features_w_device\", \"features\")"
   ]
  },
  {
   "cell_type": "code",
   "execution_count": 48,
   "metadata": {},
   "outputs": [
    {
     "name": "stdout",
     "output_type": "stream",
     "text": [
      "+--------------------+-----+\n",
      "|            features|label|\n",
      "+--------------------+-----+\n",
      "|[-8.9744994255888...|    0|\n",
      "|[-8.0677067776661...|    0|\n",
      "|[-7.7097425602733...|    0|\n",
      "|[-7.4654059199349...|    0|\n",
      "|[-7.3354397099700...|    0|\n",
      "+--------------------+-----+\n",
      "only showing top 5 rows\n",
      "\n"
     ]
    }
   ],
   "source": [
    "lpoints_w_device_ordered.show(n)"
   ]
  },
  {
   "cell_type": "markdown",
   "metadata": {},
   "source": [
    "# 9. Divide dataset into training and validation set"
   ]
  },
  {
   "cell_type": "code",
   "execution_count": 52,
   "metadata": {},
   "outputs": [],
   "source": [
    "#Divide the dataset into training and vaildation sets.\n",
    "splits = lpoints_w_device_ordered.randomSplit([0.8, 0.2], seed=1)\n",
    "\n",
    "#cache() : the algorithm is interative and training and data sets are going to be reused many times.\n",
    "df_train = splits[0].cache()\n",
    "df_valid = splits[1].cache()"
   ]
  },
  {
   "cell_type": "code",
   "execution_count": 53,
   "metadata": {},
   "outputs": [
    {
     "name": "stdout",
     "output_type": "stream",
     "text": [
      "+--------------------+-----+\n",
      "|            features|label|\n",
      "+--------------------+-----+\n",
      "|[-3.1091863058572...|    0|\n",
      "|[-3.0893114309134...|    0|\n",
      "|[-3.0384874887138...|    0|\n",
      "|[-3.0241532585882...|    0|\n",
      "|[-3.0091802692393...|    0|\n",
      "+--------------------+-----+\n",
      "only showing top 5 rows\n",
      "\n"
     ]
    }
   ],
   "source": [
    "df_train.show(n)"
   ]
  },
  {
   "cell_type": "code",
   "execution_count": 54,
   "metadata": {},
   "outputs": [
    {
     "name": "stdout",
     "output_type": "stream",
     "text": [
      "+--------------------+-----+\n",
      "|            features|label|\n",
      "+--------------------+-----+\n",
      "|[-3.0236777378331...|    0|\n",
      "|[-2.6475242601134...|    0|\n",
      "|[-2.6327949455794...|    0|\n",
      "|[-2.6230195636882...|    0|\n",
      "|[-2.5604235255809...|    0|\n",
      "+--------------------+-----+\n",
      "only showing top 5 rows\n",
      "\n"
     ]
    }
   ],
   "source": [
    "df_valid.show(5)"
   ]
  },
  {
   "cell_type": "markdown",
   "metadata": {},
   "source": [
    "# 10. Apply logistic regression"
   ]
  },
  {
   "cell_type": "code",
   "execution_count": 55,
   "metadata": {},
   "outputs": [],
   "source": [
    "lr = LogisticRegression(fitIntercept=True)\n",
    "bceval = BinaryClassificationEvaluator()"
   ]
  },
  {
   "cell_type": "code",
   "execution_count": 56,
   "metadata": {},
   "outputs": [],
   "source": [
    "cv = CrossValidator().setEstimator(lr).setEvaluator(bceval).setNumFolds(n_fold)\n",
    "#ParamGridBuilder() – combinations of parameters and their values.\n",
    "paramGrid = ParamGridBuilder().addGrid(lr.maxIter, max_iter)\\\n",
    ".addGrid(lr.regParam, reg_params).build()\n",
    "#setEstimatorParamMaps() takes ParamGridBuilder().\n",
    "cv.setEstimatorParamMaps(paramGrid)\n",
    "cvmodel = cv.fit(df_train)"
   ]
  },
  {
   "cell_type": "code",
   "execution_count": 57,
   "metadata": {},
   "outputs": [
    {
     "name": "stdout",
     "output_type": "stream",
     "text": [
      "[-0.1420104292974205,-0.028754637780759415,0.03205202527762005,0.016504085688310938,-0.02658310800532583,-0.01168053162195633,-0.04933311128935741,-0.01945816686196624,0.009915791784279102,0.0024073506195827913,-0.0016158406727496992,-0.0021049854223065398,-0.05218408383305372,-0.019138349361056406,0.012156846026440776,0.0047212330188986075,-0.00533516513410685,-0.003013190235412855,-0.13697195909181054,-0.030898560285575177,0.03792992303560347,0.002467125150825503,0.017233916734098045,-0.023384387467520428,-0.0623642538810752,0.033567559727533704]\n",
      "-1.268723597413594\n",
      "100\n",
      "0.001\n"
     ]
    }
   ],
   "source": [
    "print(cvmodel.bestModel.coefficients, end='\\n\\n')\n",
    "print(cvmodel.bestModel.intercept, end='\\n\\n')\n",
    "print(cvmodel.bestModel.getMaxIter(), end='\\n\\n')\n",
    "print(cvmodel.bestModel.getRegParam(), end='\\n\\n')"
   ]
  },
  {
   "cell_type": "code",
   "execution_count": 58,
   "metadata": {},
   "outputs": [
    {
     "data": {
      "text/plain": [
       "0.6112212064143737"
      ]
     },
     "execution_count": 58,
     "metadata": {},
     "output_type": "execute_result"
    }
   ],
   "source": [
    "BinaryClassificationEvaluator().evaluate(cvmodel.bestModel.transform(df_valid))"
   ]
  },
  {
   "cell_type": "code",
   "execution_count": null,
   "metadata": {},
   "outputs": [],
   "source": [
    "sc.stop()"
   ]
  },
  {
   "cell_type": "code",
   "execution_count": null,
   "metadata": {},
   "outputs": [],
   "source": []
  },
  {
   "cell_type": "code",
   "execution_count": null,
   "metadata": {},
   "outputs": [],
   "source": []
  },
  {
   "cell_type": "code",
   "execution_count": null,
   "metadata": {},
   "outputs": [],
   "source": []
  },
  {
   "cell_type": "code",
   "execution_count": null,
   "metadata": {},
   "outputs": [],
   "source": []
  }
 ],
 "metadata": {
  "kernelspec": {
   "display_name": "Python 3.8.5 64-bit ('base': conda)",
   "name": "python385jvsc74a57bd08c7cc3b82c09c45f86e9c62a48ea32395c0a66889c54467c17ef1cf19825882f"
  },
  "language_info": {
   "codemirror_mode": {
    "name": "ipython",
    "version": 3
   },
   "file_extension": ".py",
   "mimetype": "text/x-python",
   "name": "python",
   "nbconvert_exporter": "python",
   "pygments_lexer": "ipython3",
   "version": "3.8.5"
  }
 },
 "nbformat": 4,
 "nbformat_minor": 4
}
