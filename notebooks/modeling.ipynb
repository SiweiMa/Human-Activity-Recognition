{
 "cells": [
  {
   "cell_type": "code",
   "execution_count": 1,
   "metadata": {
    "ExecuteTime": {
     "end_time": "2021-02-26T20:00:19.013976Z",
     "start_time": "2021-02-26T20:00:18.773286Z"
    }
   },
   "outputs": [],
   "source": [
    "from pyspark.sql import *\n",
    "from pyspark.ml import *\n",
    "\n",
    "from pyspark.sql import SparkSession\n",
    "from pyspark.sql import Window\n",
    "from pyspark.sql.types import *\n",
    "from pyspark.sql.functions import *\n",
    "from pyspark.ml.feature import StringIndexer\n",
    "from pyspark.ml.feature import OneHotEncoder\n",
    "from pyspark.ml.feature import StandardScaler\n",
    "from pyspark.ml.feature import VectorAssembler\n",
    "from pyspark.ml.classification import RandomForestClassifier\n",
    "from pyspark.ml.classification import GBTClassifier\n",
    "from pyspark.ml.evaluation import MulticlassClassificationEvaluator\n",
    "from pyspark.ml.evaluation import BinaryClassificationEvaluator\n",
    "from pyspark.ml.tuning import CrossValidator\n",
    "from pyspark.ml.tuning import ParamGridBuilder\n",
    "from pyspark.ml import Pipeline\n",
    "\n",
    "from builtins import round\n",
    "\n",
    "from user_definition import *\n",
    "\n"
   ]
  },
  {
   "cell_type": "code",
   "execution_count": 2,
   "metadata": {
    "ExecuteTime": {
     "end_time": "2021-02-26T20:00:39.346190Z",
     "start_time": "2021-02-26T20:00:20.268945Z"
    }
   },
   "outputs": [],
   "source": [
    "ss = SparkSession.builder.config(\"spark.driver.memory\", \"15g\")\\\n",
    "                         .config(\"spark.executor.memory\", \"8g\")\\\n",
    "                         .getOrCreate()\n",
    "sc = ss.sparkContext"
   ]
  },
  {
   "cell_type": "markdown",
   "metadata": {},
   "source": [
    "# 1. Read training and validation dataset"
   ]
  },
  {
   "cell_type": "code",
   "execution_count": 7,
   "metadata": {
    "ExecuteTime": {
     "end_time": "2021-02-27T03:03:13.592298Z",
     "start_time": "2021-02-27T03:03:13.041226Z"
    }
   },
   "outputs": [
    {
     "name": "stdout",
     "output_type": "stream",
     "text": [
      "4706083\n",
      "\n",
      "1177746\n",
      "\n"
     ]
    }
   ],
   "source": [
    "df_train = ss.read.parquet(train_folder).repartition(200).cache()\n",
    "\n",
    "df_valid = ss.read.parquet(valid_folder).repartition(200).cache()\n",
    "\n",
    "print(df_train.count(), end = '\\n\\n')\n",
    "\n",
    "print(df_valid.count(), end = '\\n\\n')"
   ]
  },
  {
   "cell_type": "markdown",
   "metadata": {},
   "source": [
    "# 2. Apply random forest classifier"
   ]
  },
  {
   "cell_type": "code",
   "execution_count": 8,
   "metadata": {
    "ExecuteTime": {
     "end_time": "2021-02-27T03:31:16.494485Z",
     "start_time": "2021-02-27T03:03:16.858807Z"
    }
   },
   "outputs": [
    {
     "name": "stdout",
     "output_type": "stream",
     "text": [
      "RandomForestClassifier\n",
      "100\n",
      "0.799\n"
     ]
    }
   ],
   "source": [
    "bceval = BinaryClassificationEvaluator()\n",
    "\n",
    "rf = RandomForestClassifier()\n",
    "\n",
    "cv = CrossValidator().setEstimator(rf).setEvaluator(bceval).setNumFolds(5)\n",
    "\n",
    "paraGrid = ParamGridBuilder().addGrid(rf.numTrees, num_trees).build()\n",
    "\n",
    "cv.setEstimatorParamMaps(paraGrid)\n",
    "\n",
    "rf_cv_model = cv.fit(df_train)\n",
    "\n",
    "roc = bceval.evaluate(rf_cv_model.bestModel.transform(df_valid))\n",
    "\n",
    "print(str(rf).split('_')[0])\n",
    "print(rf_cv_model.bestModel.getNumTrees)\n",
    "print(f'{roc:.{n_digits}f}')"
   ]
  },
  {
   "cell_type": "markdown",
   "metadata": {},
   "source": [
    "# 3. Appy a gradient boosted tree classifier"
   ]
  },
  {
   "cell_type": "code",
   "execution_count": 9,
   "metadata": {
    "ExecuteTime": {
     "end_time": "2021-02-27T06:33:58.272639Z",
     "start_time": "2021-02-27T04:57:12.032971Z"
    }
   },
   "outputs": [
    {
     "name": "stdout",
     "output_type": "stream",
     "text": [
      "GBTClassifier\n",
      "10\n",
      "0.931\n"
     ]
    }
   ],
   "source": [
    "gbt = GBTClassifier()\n",
    "\n",
    "cv_3 = CrossValidator().setEstimator(gbt).setEvaluator(bceval).setNumFolds(n_fold)\n",
    "\n",
    "paraGrid = ParamGridBuilder().addGrid(gbt.maxDepth, max_depth).build()\n",
    "\n",
    "cv_3.setEstimatorParamMaps(paraGrid)\n",
    "\n",
    "gbt_cv_model = cv_3.fit(df_train)\n",
    "\n",
    "roc = bceval.evaluate(gbt_cv_model.bestModel.transform(df_valid))\n",
    "\n",
    "print(str(gbt).split('_')[0])\n",
    "\n",
    "print(gbt_cv_model.bestModel.getMaxDepth())\n",
    "\n",
    "print(f'{roc:.{n_digits}f}')"
   ]
  },
  {
   "cell_type": "code",
   "execution_count": 8,
   "metadata": {},
   "outputs": [],
   "source": [
    "ss.stop()"
   ]
  },
  {
   "cell_type": "code",
   "execution_count": null,
   "metadata": {},
   "outputs": [],
   "source": []
  }
 ],
 "metadata": {
  "kernelspec": {
   "display_name": "Python 3",
   "language": "python",
   "name": "python3"
  },
  "language_info": {
   "codemirror_mode": {
    "name": "ipython",
    "version": 3
   },
   "file_extension": ".py",
   "mimetype": "text/x-python",
   "name": "python",
   "nbconvert_exporter": "python",
   "pygments_lexer": "ipython3",
   "version": "3.7.9"
  }
 },
 "nbformat": 4,
 "nbformat_minor": 4
}